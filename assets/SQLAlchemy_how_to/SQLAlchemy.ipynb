{
 "cells": [
  {
   "attachments": {},
   "cell_type": "markdown",
   "metadata": {},
   "source": [
    "### Initializing and connection to the Database"
   ]
  },
  {
   "cell_type": "code",
   "execution_count": 2,
   "metadata": {},
   "outputs": [],
   "source": [
    "import sqlalchemy as db\n",
    "\n",
    "# Create the engine, the instance of the Database\n",
    "engine = db.create_engine('sqlite:///keywords_SQLAlchemy.sqlite')\n",
    "\n",
    "# Load the Metadata of the Database for managing and accessing tables\n",
    "meta = db.MetaData()\n",
    "\n",
    "# Create the connection object\n",
    "con = engine.connect()"
   ]
  },
  {
   "attachments": {},
   "cell_type": "markdown",
   "metadata": {},
   "source": [
    "### Creating the table"
   ]
  },
  {
   "cell_type": "code",
   "execution_count": 3,
   "metadata": {},
   "outputs": [],
   "source": [
    "from sqlalchemy import Table, Column, Integer, String\n",
    "\n",
    "# Create the table\n",
    "Cars = Table('cars', meta,\n",
    "   Column('id', Integer, primary_key = True),\n",
    "   Column('model', String),\n",
    "   Column('cv', Integer)\n",
    ")\n",
    "\n",
    "# Create the table or tables defined into the Database\n",
    "meta.create_all(engine)"
   ]
  },
  {
   "attachments": {},
   "cell_type": "markdown",
   "metadata": {},
   "source": [
    "### Inserting records"
   ]
  },
  {
   "cell_type": "code",
   "execution_count": 4,
   "metadata": {},
   "outputs": [
    {
     "data": {
      "text/plain": [
       "<sqlalchemy.engine.cursor.CursorResult at 0x7f55b40b50f0>"
      ]
     },
     "execution_count": 4,
     "metadata": {},
     "output_type": "execute_result"
    }
   ],
   "source": [
    "# Insert a single record into Database\n",
    "query = db.insert(Cars).values(id = 1, model = 'Renault Clio', cv = 95)\n",
    "con.execute(query)\n",
    "\n",
    "# Insert multiple records into Database\n",
    "query = db.insert(Cars)\n",
    "values_list = [\n",
    "    {\"id\": 2, \"model\": \"Tesla Model 3\", \"cv\": 390},\n",
    "    {\"id\": 3, \"model\": \"Fiat 500\", \"cv\": 110}\n",
    "]\n",
    "con.execute(query, values_list)"
   ]
  },
  {
   "attachments": {},
   "cell_type": "markdown",
   "metadata": {},
   "source": [
    "### Selecting records"
   ]
  },
  {
   "cell_type": "code",
   "execution_count": 5,
   "metadata": {},
   "outputs": [
    {
     "name": "stdout",
     "output_type": "stream",
     "text": [
      "Select all rows\n",
      "(1, 'Renault Clio', 95)\n",
      "(2, 'Tesla Model 3', 390)\n",
      "(3, 'Fiat 500', 110)\n",
      "\n",
      "Select rows that contain id == 2\n",
      "(2, 'Tesla Model 3', 390)\n",
      "\n",
      "Save select query into Pandas DataFrame\n",
      "[(1, 'Renault Clio', 95), (2, 'Tesla Model 3', 390), (3, 'Fiat 500', 110)]\n",
      "   id          model   cv\n",
      "0   1   Renault Clio   95\n",
      "1   2  Tesla Model 3  390\n",
      "2   3       Fiat 500  110\n"
     ]
    },
    {
     "name": "stderr",
     "output_type": "stream",
     "text": [
      "Bad pipe message: %s [b'1.1685992798.12.0.1685992798.0.0.0\\r\\nHost: localh']\n",
      "Bad pipe message: %s [b't\\r\\nProxy-Connection: Keep-Alive\\r\\nX-Request-ID: 061417fdf05b8bc59b018ca020e0ee15\\r\\nX-Real-IP: 79.116.132.210\\r\\nX-', b'rwarded-For: 79.116.132.210\\r\\nX-Forwarded-Host: cesarseneca-orange-lam', b'rpx4wj54gqjc5rgg-43577.preview.app.github.dev\\r\\nX-Forwarded-Port: 443\\r\\nX-Forwarded-Proto: https\\r\\nX-Original-URI:', b'\\r\\nX-Scheme: https\\r\\ncache-contro', b' max-age=0\\r\\nupgrade-insecure-requests: 1\\r\\nuser-agent: Mozilla/5.0 (Windows NT 10.0; Win64; x64) AppleWebKit']\n",
      "Bad pipe message: %s [b'37.36 (KHTML, like Gecko) Chrome/114.0.0.0 Saf', b'i/537.36\\r\\naccept: text/html,application/xhtml+xml,application/xml;q=0.9,image/avif,image/webp,im']\n",
      "Bad pipe message: %s [b'e/apng,*/*;q=0.8,application/signed-exchange;v=b3;q=0.7\\r\\nsec-fetch-site: same-site\\r\\nsec-fetch-mo', b': navigate\\r\\nsec-fetch-dest: document\\r\\nsec-ch-ua: \"Not.A/Brand\";v=\"8\", \"Chromium\";v=\"114\", \"Google C', b'ome\";v=\"114\"\\r\\nsec-ch-ua-mobile: ?0\\r\\nsec-ch-ua-platform: \"Windows\"\\r\\nreferer: https://auth.preview.app.gi']\n"
     ]
    }
   ],
   "source": [
    "from sqlalchemy import select\n",
    "import pandas as pd\n",
    "\n",
    "# Select all rows\n",
    "print(\"Select all rows\")\n",
    "query = select(Cars)\n",
    "for row in con.execute(query):\n",
    "    print(row)\n",
    "\n",
    "# Select rows based on condition, id == 2\n",
    "print(\"\\nSelect rows that contain id == 2\")\n",
    "query = select(Cars).where(Cars.c.id == 2)\n",
    "for row in con.execute(query):\n",
    "    print(row)\n",
    "\n",
    "# Save select query into Pandas DataFrame\n",
    "print(\"\\nSave select query into Pandas DataFrame\")\n",
    "query = select(Cars)\n",
    "# fetchall() function returns a list of tuples with the results of the query. Using this we won't need to iterate over a for\n",
    "rows = con.execute(query).fetchall()\n",
    "print(rows)\n",
    "rows_df = pd.DataFrame(rows)\n",
    "print(rows_df)"
   ]
  },
  {
   "attachments": {},
   "cell_type": "markdown",
   "metadata": {},
   "source": [
    "### Deleting records"
   ]
  },
  {
   "cell_type": "code",
   "execution_count": 5,
   "metadata": {},
   "outputs": [
    {
     "data": {
      "text/html": [
       "<div>\n",
       "<style scoped>\n",
       "    .dataframe tbody tr th:only-of-type {\n",
       "        vertical-align: middle;\n",
       "    }\n",
       "\n",
       "    .dataframe tbody tr th {\n",
       "        vertical-align: top;\n",
       "    }\n",
       "\n",
       "    .dataframe thead th {\n",
       "        text-align: right;\n",
       "    }\n",
       "</style>\n",
       "<table border=\"1\" class=\"dataframe\">\n",
       "  <thead>\n",
       "    <tr style=\"text-align: right;\">\n",
       "      <th></th>\n",
       "      <th>id</th>\n",
       "      <th>model</th>\n",
       "      <th>cv</th>\n",
       "    </tr>\n",
       "  </thead>\n",
       "  <tbody>\n",
       "    <tr>\n",
       "      <th>0</th>\n",
       "      <td>1</td>\n",
       "      <td>Renault Clio</td>\n",
       "      <td>95</td>\n",
       "    </tr>\n",
       "    <tr>\n",
       "      <th>1</th>\n",
       "      <td>3</td>\n",
       "      <td>Fiat 500</td>\n",
       "      <td>110</td>\n",
       "    </tr>\n",
       "  </tbody>\n",
       "</table>\n",
       "</div>"
      ],
      "text/plain": [
       "   id         model   cv\n",
       "0   1  Renault Clio   95\n",
       "1   3      Fiat 500  110"
      ]
     },
     "execution_count": 5,
     "metadata": {},
     "output_type": "execute_result"
    }
   ],
   "source": [
    "from sqlalchemy import delete\n",
    "\n",
    "# Remove rows based on condition, id == 2\n",
    "query = delete(Cars).where(Cars.c.id == 2)\n",
    "con.execute(query)\n",
    "\n",
    "# Let's check if the delete statement has worked well with a compressed select query\n",
    "pd.DataFrame(con.execute(select(Cars)).fetchall())"
   ]
  },
  {
   "attachments": {},
   "cell_type": "markdown",
   "metadata": {},
   "source": [
    "### Updating records"
   ]
  },
  {
   "cell_type": "code",
   "execution_count": 6,
   "metadata": {},
   "outputs": [
    {
     "data": {
      "text/html": [
       "<div>\n",
       "<style scoped>\n",
       "    .dataframe tbody tr th:only-of-type {\n",
       "        vertical-align: middle;\n",
       "    }\n",
       "\n",
       "    .dataframe tbody tr th {\n",
       "        vertical-align: top;\n",
       "    }\n",
       "\n",
       "    .dataframe thead th {\n",
       "        text-align: right;\n",
       "    }\n",
       "</style>\n",
       "<table border=\"1\" class=\"dataframe\">\n",
       "  <thead>\n",
       "    <tr style=\"text-align: right;\">\n",
       "      <th></th>\n",
       "      <th>id</th>\n",
       "      <th>model</th>\n",
       "      <th>cv</th>\n",
       "    </tr>\n",
       "  </thead>\n",
       "  <tbody>\n",
       "    <tr>\n",
       "      <th>0</th>\n",
       "      <td>1</td>\n",
       "      <td>Renault Clio</td>\n",
       "      <td>100</td>\n",
       "    </tr>\n",
       "    <tr>\n",
       "      <th>1</th>\n",
       "      <td>3</td>\n",
       "      <td>Fiat 500</td>\n",
       "      <td>110</td>\n",
       "    </tr>\n",
       "  </tbody>\n",
       "</table>\n",
       "</div>"
      ],
      "text/plain": [
       "   id         model   cv\n",
       "0   1  Renault Clio  100\n",
       "1   3      Fiat 500  110"
      ]
     },
     "execution_count": 6,
     "metadata": {},
     "output_type": "execute_result"
    }
   ],
   "source": [
    "from sqlalchemy import update\n",
    "\n",
    "query = update(Cars).values(cv = 100).where(Cars.c.id == 1)\n",
    "con.execute(query)\n",
    "\n",
    "# Let's check if the delete statement has worked well with a compressed select query\n",
    "pd.DataFrame(con.execute(select(Cars)).fetchall())"
   ]
  },
  {
   "attachments": {},
   "cell_type": "markdown",
   "metadata": {},
   "source": [
    "### Dropping tables"
   ]
  },
  {
   "cell_type": "code",
   "execution_count": 8,
   "metadata": {},
   "outputs": [],
   "source": [
    "# Drop the Cars table from the Database\n",
    "# Cars.drop(engine)\n",
    "\n",
    "# Drop ALL tables from the Database (uncomment the following code-line to execute)\n",
    "# meta.drop_all(engine)"
   ]
  },
  {
   "cell_type": "code",
   "execution_count": null,
   "metadata": {},
   "outputs": [],
   "source": []
  }
 ],
 "metadata": {
  "kernelspec": {
   "display_name": "Python 3.8.13 64-bit ('3.8.13')",
   "language": "python",
   "name": "python3"
  },
  "language_info": {
   "codemirror_mode": {
    "name": "ipython",
    "version": 3
   },
   "file_extension": ".py",
   "mimetype": "text/x-python",
   "name": "python",
   "nbconvert_exporter": "python",
   "pygments_lexer": "ipython3",
   "version": "3.11.4"
  },
  "orig_nbformat": 4,
  "vscode": {
   "interpreter": {
    "hash": "110cc1dee26208153f2972f08a2ad52b6a56238dc66d48e87fb757ef2996db56"
   }
  }
 },
 "nbformat": 4,
 "nbformat_minor": 2
}
